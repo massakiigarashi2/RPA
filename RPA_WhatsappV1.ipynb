{
 "cells": [
  {
   "cell_type": "code",
   "execution_count": 1,
   "id": "1e3a0b42",
   "metadata": {},
   "outputs": [],
   "source": [
    "import pyautogui\n",
    "import pyperclip\n",
    "import time\n",
    "\n",
    "pyautogui.PAUSE = 1\n",
    "\n",
    "#Automatizando Envio de msg pelo Whatsapp\n",
    "# OBSERVAÇÂO1: Para que funcione você precisa logar previamente no whatsapp antes de executar este RPA\n",
    "# OBSERVAÇÂO2: Só consegue enviar mensagens para contatos previamente cadastrados na sua agenda; \n",
    "# ###########  pois o whatsapp só permite cadastrar novos contatos através do aplicativo p/ smartphone\n",
    "pyautogui.hotkey(\"ctrl\", \"t\")\n",
    "pyperclip.copy(\"https://web.whatsapp.com/\")\n",
    "pyautogui.hotkey(\"ctrl\", \"v\")\n",
    "pyautogui.press(\"enter\")\n",
    "time.sleep(7)\n",
    "pyautogui.press(\"tab\") # pula pro campo de assunto\n",
    "pyautogui.write(\"LP 2022.1(prof. Massaki)\")\n",
    "pyautogui.press(\"enter\")\n",
    "time.sleep(7)\n",
    "pyautogui.write(\"Mensagagem enviada automaticamente pelo RPA programado pelo Prof. Massaki\")\n",
    "pyautogui.press(\"enter\")\n",
    "time.sleep(7)\n",
    "pyautogui.press(\"tab\") # pula pro campo de assunto\n",
    "pyautogui.press(\"tab\") # pula pro campo de assunto\n",
    "time.sleep(5)\n",
    "pyautogui.write(\"Massaki Igarashi\")\n",
    "pyautogui.press(\"enter\")\n",
    "time.sleep(7)\n",
    "pyautogui.write(\"Mensagagem enviada automaticamente pelo RPA programado pelo Prof. Massaki\")\n",
    "pyautogui.press(\"enter\")\n",
    "time.sleep(7)"
   ]
  },
  {
   "cell_type": "code",
   "execution_count": null,
   "id": "7628d4a6",
   "metadata": {},
   "outputs": [],
   "source": []
  }
 ],
 "metadata": {
  "kernelspec": {
   "display_name": "Python 3 (ipykernel)",
   "language": "python",
   "name": "python3"
  },
  "language_info": {
   "codemirror_mode": {
    "name": "ipython",
    "version": 3
   },
   "file_extension": ".py",
   "mimetype": "text/x-python",
   "name": "python",
   "nbconvert_exporter": "python",
   "pygments_lexer": "ipython3",
   "version": "3.9.7"
  }
 },
 "nbformat": 4,
 "nbformat_minor": 5
}
