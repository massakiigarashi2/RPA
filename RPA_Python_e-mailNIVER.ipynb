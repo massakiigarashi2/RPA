{
 "cells": [
  {
   "cell_type": "markdown",
   "id": "7e9524ab",
   "metadata": {},
   "source": [
    "    #Envio automático de e-mail Google"
   ]
  },
  {
   "cell_type": "markdown",
   "id": "d9e5b817",
   "metadata": {},
   "source": [
    "### BIBLIOTECAS Robotic Process Automation – RPA"
   ]
  },
  {
   "cell_type": "code",
   "execution_count": 2,
   "id": "bf0064c1",
   "metadata": {},
   "outputs": [],
   "source": [
    "import pyautogui\n",
    "import pyperclip\n",
    "import time\n",
    "\n",
    "pyautogui.PAUSE = 1"
   ]
  },
  {
   "cell_type": "markdown",
   "id": "7d022baf",
   "metadata": {},
   "source": [
    "### A função hotkey()\n",
    "Para tornar conveniente pressionar teclas de atalho ou atalhos de teclado, a função hotkey() permite passar ao python as sequências de teclas que serão pressionadas na ordem e depois liberadas na ordem inversa."
   ]
  },
  {
   "cell_type": "markdown",
   "id": "6c832d06",
   "metadata": {},
   "source": [
    "### Pyperclip\n",
    "Pyperclip é um módulo que permite copiar e colar de e para a área de transferência em seu computador. Ele faz isso através do uso de duas funções: copy() e paste()!\n",
    "É simples!"
   ]
  },
  {
   "cell_type": "code",
   "execution_count": 3,
   "id": "58d65bdd",
   "metadata": {},
   "outputs": [],
   "source": [
    "#Entrar no email\n",
    "pyautogui.hotkey(\"ctrl\", \"t\")\n",
    "pyperclip.copy(\"https://mail.google.com/mail/u/0/#inbox?compose=new\")\n",
    "pyautogui.hotkey(\"ctrl\", \"v\")\n",
    "pyautogui.press(\"enter\")\n",
    "time.sleep(7)\n",
    "\n",
    "#pyautogui.press(\"tab\") # pula pro campo de assunto\n",
    "pyautogui.write(\"prof.massaki@gmail.com\")\n",
    "time.sleep(2)\n",
    "pyautogui.press(\"tab\") # pula pro campo de assunto\n",
    "pyautogui.press(\"tab\") # pula pro campo de assunto\n",
    "pyautogui.write(\"Feliz\")\n",
    "pyperclip.copy(\" Aniversario.\")\n",
    "pyautogui.hotkey(\"ctrl\", \"v\") # escrever o assunto\n",
    "pyautogui.press(\"tab\") #pular pro corpo do email\n",
    "time.sleep(2)\n",
    "pyautogui.write(\"Passando para desejar um Feliz Aniversario! \\n\")\n",
    "pyautogui.write(\"Muitas felicidades e muitos anos de vida. \\n\")\n",
    "pyautogui.write(\"Aproveite bem o seu dia!\")\n",
    "time.sleep(5)\n",
    "# apertar Ctrl Enter\n",
    "pyautogui.hotkey(\"ctrl\", \"enter\")"
   ]
  },
  {
   "cell_type": "code",
   "execution_count": null,
   "id": "6d115bf5",
   "metadata": {},
   "outputs": [],
   "source": []
  }
 ],
 "metadata": {
  "kernelspec": {
   "display_name": "Python 3 (ipykernel)",
   "language": "python",
   "name": "python3"
  },
  "language_info": {
   "codemirror_mode": {
    "name": "ipython",
    "version": 3
   },
   "file_extension": ".py",
   "mimetype": "text/x-python",
   "name": "python",
   "nbconvert_exporter": "python",
   "pygments_lexer": "ipython3",
   "version": "3.9.7"
  }
 },
 "nbformat": 4,
 "nbformat_minor": 5
}
